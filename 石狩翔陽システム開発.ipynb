{
  "cells": [
    {
      "cell_type": "markdown",
      "metadata": {
        "id": "view-in-github",
        "colab_type": "text"
      },
      "source": [
        "<a href=\"https://colab.research.google.com/github/hirossk/shoyo/blob/main/%E7%9F%B3%E7%8B%A9%E7%BF%94%E9%99%BD%E3%82%B7%E3%82%B9%E3%83%86%E3%83%A0%E9%96%8B%E7%99%BA.ipynb\" target=\"_parent\"><img src=\"https://colab.research.google.com/assets/colab-badge.svg\" alt=\"Open In Colab\"/></a>"
      ]
    },
    {
      "cell_type": "markdown",
      "source": [],
      "metadata": {
        "id": "o_sMC2u7g5L_"
      }
    },
    {
      "cell_type": "code",
      "execution_count": 17,
      "metadata": {
        "colab": {
          "base_uri": "https://localhost:8080/"
        },
        "id": "k6jzNGVG1-4U",
        "outputId": "66ab41db-6b8f-4ea6-9fdf-dc0c05f6a869"
      },
      "outputs": [
        {
          "output_type": "stream",
          "name": "stdout",
          "text": [
            "Cloning into 'websystem01'...\n",
            "remote: Enumerating objects: 98, done.\u001b[K\n",
            "remote: Counting objects:   1% (1/98)\u001b[K\rremote: Counting objects:   2% (2/98)\u001b[K\rremote: Counting objects:   3% (3/98)\u001b[K\rremote: Counting objects:   4% (4/98)\u001b[K\rremote: Counting objects:   5% (5/98)\u001b[K\rremote: Counting objects:   6% (6/98)\u001b[K\rremote: Counting objects:   7% (7/98)\u001b[K\rremote: Counting objects:   8% (8/98)\u001b[K\rremote: Counting objects:   9% (9/98)\u001b[K\rremote: Counting objects:  10% (10/98)\u001b[K\rremote: Counting objects:  11% (11/98)\u001b[K\rremote: Counting objects:  12% (12/98)\u001b[K\rremote: Counting objects:  13% (13/98)\u001b[K\rremote: Counting objects:  14% (14/98)\u001b[K\rremote: Counting objects:  15% (15/98)\u001b[K\rremote: Counting objects:  16% (16/98)\u001b[K\rremote: Counting objects:  17% (17/98)\u001b[K\rremote: Counting objects:  18% (18/98)\u001b[K\rremote: Counting objects:  19% (19/98)\u001b[K\rremote: Counting objects:  20% (20/98)\u001b[K\rremote: Counting objects:  21% (21/98)\u001b[K\rremote: Counting objects:  22% (22/98)\u001b[K\rremote: Counting objects:  23% (23/98)\u001b[K\rremote: Counting objects:  24% (24/98)\u001b[K\rremote: Counting objects:  25% (25/98)\u001b[K\rremote: Counting objects:  26% (26/98)\u001b[K\rremote: Counting objects:  27% (27/98)\u001b[K\rremote: Counting objects:  28% (28/98)\u001b[K\rremote: Counting objects:  29% (29/98)\u001b[K\rremote: Counting objects:  30% (30/98)\u001b[K\rremote: Counting objects:  31% (31/98)\u001b[K\rremote: Counting objects:  32% (32/98)\u001b[K\rremote: Counting objects:  33% (33/98)\u001b[K\rremote: Counting objects:  34% (34/98)\u001b[K\rremote: Counting objects:  35% (35/98)\u001b[K\rremote: Counting objects:  36% (36/98)\u001b[K\rremote: Counting objects:  37% (37/98)\u001b[K\rremote: Counting objects:  38% (38/98)\u001b[K\rremote: Counting objects:  39% (39/98)\u001b[K\rremote: Counting objects:  40% (40/98)\u001b[K\rremote: Counting objects:  41% (41/98)\u001b[K\rremote: Counting objects:  42% (42/98)\u001b[K\rremote: Counting objects:  43% (43/98)\u001b[K\rremote: Counting objects:  44% (44/98)\u001b[K\rremote: Counting objects:  45% (45/98)\u001b[K\rremote: Counting objects:  46% (46/98)\u001b[K\rremote: Counting objects:  47% (47/98)\u001b[K\rremote: Counting objects:  48% (48/98)\u001b[K\rremote: Counting objects:  50% (49/98)\u001b[K\rremote: Counting objects:  51% (50/98)\u001b[K\rremote: Counting objects:  52% (51/98)\u001b[K\rremote: Counting objects:  53% (52/98)\u001b[K\rremote: Counting objects:  54% (53/98)\u001b[K\rremote: Counting objects:  55% (54/98)\u001b[K\rremote: Counting objects:  56% (55/98)\u001b[K\rremote: Counting objects:  57% (56/98)\u001b[K\rremote: Counting objects:  58% (57/98)\u001b[K\rremote: Counting objects:  59% (58/98)\u001b[K\rremote: Counting objects:  60% (59/98)\u001b[K\rremote: Counting objects:  61% (60/98)\u001b[K\rremote: Counting objects:  62% (61/98)\u001b[K\rremote: Counting objects:  63% (62/98)\u001b[K\rremote: Counting objects:  64% (63/98)\u001b[K\rremote: Counting objects:  65% (64/98)\u001b[K\rremote: Counting objects:  66% (65/98)\u001b[K\rremote: Counting objects:  67% (66/98)\u001b[K\rremote: Counting objects:  68% (67/98)\u001b[K\rremote: Counting objects:  69% (68/98)\u001b[K\rremote: Counting objects:  70% (69/98)\u001b[K\rremote: Counting objects:  71% (70/98)\u001b[K\rremote: Counting objects:  72% (71/98)\u001b[K\rremote: Counting objects:  73% (72/98)\u001b[K\rremote: Counting objects:  74% (73/98)\u001b[K\rremote: Counting objects:  75% (74/98)\u001b[K\rremote: Counting objects:  76% (75/98)\u001b[K\rremote: Counting objects:  77% (76/98)\u001b[K\rremote: Counting objects:  78% (77/98)\u001b[K\rremote: Counting objects:  79% (78/98)\u001b[K\rremote: Counting objects:  80% (79/98)\u001b[K\rremote: Counting objects:  81% (80/98)\u001b[K\rremote: Counting objects:  82% (81/98)\u001b[K\rremote: Counting objects:  83% (82/98)\u001b[K\rremote: Counting objects:  84% (83/98)\u001b[K\rremote: Counting objects:  85% (84/98)\u001b[K\rremote: Counting objects:  86% (85/98)\u001b[K\rremote: Counting objects:  87% (86/98)\u001b[K\rremote: Counting objects:  88% (87/98)\u001b[K\rremote: Counting objects:  89% (88/98)\u001b[K\rremote: Counting objects:  90% (89/98)\u001b[K\rremote: Counting objects:  91% (90/98)\u001b[K\rremote: Counting objects:  92% (91/98)\u001b[K\rremote: Counting objects:  93% (92/98)\u001b[K\rremote: Counting objects:  94% (93/98)\u001b[K\rremote: Counting objects:  95% (94/98)\u001b[K\rremote: Counting objects:  96% (95/98)\u001b[K\rremote: Counting objects:  97% (96/98)\u001b[K\rremote: Counting objects:  98% (97/98)\u001b[K\rremote: Counting objects: 100% (98/98)\u001b[K\rremote: Counting objects: 100% (98/98), done.\u001b[K\n",
            "remote: Compressing objects: 100% (64/64), done.\u001b[K\n",
            "remote: Total 98 (delta 46), reused 83 (delta 31), pack-reused 0 (from 0)\u001b[K\n",
            "Receiving objects: 100% (98/98), 217.50 KiB | 5.44 MiB/s, done.\n",
            "Resolving deltas: 100% (46/46), done.\n"
          ]
        }
      ],
      "source": [
        "!rm -rf *\n",
        "!git clone https://github.com/hirossk/websystem01\n",
        "!mv websystem01/* ."
      ]
    },
    {
      "cell_type": "markdown",
      "metadata": {
        "id": "RRlQbDav4YnF"
      },
      "source": [
        "https://ngrok.com/にログオンしてサインアップします"
      ]
    },
    {
      "cell_type": "code",
      "execution_count": 18,
      "metadata": {
        "colab": {
          "base_uri": "https://localhost:8080/"
        },
        "id": "OzzRUzOHoWWn",
        "outputId": "56de779e-b0c4-46fa-a966-9bfbff3829fd"
      },
      "outputs": [
        {
          "output_type": "stream",
          "name": "stdout",
          "text": [
            "Requirement already satisfied: flask in /usr/local/lib/python3.11/dist-packages (3.1.0)\n",
            "Requirement already satisfied: pyngrok in /usr/local/lib/python3.11/dist-packages (7.2.3)\n",
            "Requirement already satisfied: flask_sqlalchemy in /usr/local/lib/python3.11/dist-packages (3.1.1)\n",
            "Requirement already satisfied: flask_ngrok in /usr/local/lib/python3.11/dist-packages (0.0.25)\n",
            "Requirement already satisfied: Werkzeug>=3.1 in /usr/local/lib/python3.11/dist-packages (from flask) (3.1.3)\n",
            "Requirement already satisfied: Jinja2>=3.1.2 in /usr/local/lib/python3.11/dist-packages (from flask) (3.1.5)\n",
            "Requirement already satisfied: itsdangerous>=2.2 in /usr/local/lib/python3.11/dist-packages (from flask) (2.2.0)\n",
            "Requirement already satisfied: click>=8.1.3 in /usr/local/lib/python3.11/dist-packages (from flask) (8.1.8)\n",
            "Requirement already satisfied: blinker>=1.9 in /usr/local/lib/python3.11/dist-packages (from flask) (1.9.0)\n",
            "Requirement already satisfied: PyYAML>=5.1 in /usr/local/lib/python3.11/dist-packages (from pyngrok) (6.0.2)\n",
            "Requirement already satisfied: sqlalchemy>=2.0.16 in /usr/local/lib/python3.11/dist-packages (from flask_sqlalchemy) (2.0.37)\n",
            "Requirement already satisfied: requests in /usr/local/lib/python3.11/dist-packages (from flask_ngrok) (2.32.3)\n",
            "Requirement already satisfied: MarkupSafe>=2.0 in /usr/local/lib/python3.11/dist-packages (from Jinja2>=3.1.2->flask) (3.0.2)\n",
            "Requirement already satisfied: greenlet!=0.4.17 in /usr/local/lib/python3.11/dist-packages (from sqlalchemy>=2.0.16->flask_sqlalchemy) (3.1.1)\n",
            "Requirement already satisfied: typing-extensions>=4.6.0 in /usr/local/lib/python3.11/dist-packages (from sqlalchemy>=2.0.16->flask_sqlalchemy) (4.12.2)\n",
            "Requirement already satisfied: charset-normalizer<4,>=2 in /usr/local/lib/python3.11/dist-packages (from requests->flask_ngrok) (3.4.1)\n",
            "Requirement already satisfied: idna<4,>=2.5 in /usr/local/lib/python3.11/dist-packages (from requests->flask_ngrok) (3.10)\n",
            "Requirement already satisfied: urllib3<3,>=1.21.1 in /usr/local/lib/python3.11/dist-packages (from requests->flask_ngrok) (2.3.0)\n",
            "Requirement already satisfied: certifi>=2017.4.17 in /usr/local/lib/python3.11/dist-packages (from requests->flask_ngrok) (2025.1.31)\n",
            "Authtoken saved to configuration file: /root/.config/ngrok/ngrok.yml\n"
          ]
        }
      ],
      "source": [
        "!pip install flask pyngrok flask_sqlalchemy flask_ngrok\n",
        "\n",
        "!ngrok authtoken 2kK8VJj31s3SP9mSKx93NNMnrjk_5TQmgnN4EeTUeMaz5PEDk\n"
      ]
    },
    {
      "cell_type": "code",
      "source": [
        "!python initdb.py"
      ],
      "metadata": {
        "colab": {
          "base_uri": "https://localhost:8080/"
        },
        "id": "lxdqAaQ7GbQc",
        "outputId": "a40d91a2-2dc2-4b9d-fa86-ad539ed2a21b"
      },
      "execution_count": 19,
      "outputs": [
        {
          "output_type": "stream",
          "name": "stdout",
          "text": [
            "Database 'instance/site.db' does not exist.\n",
            "Database tables recreated.\n"
          ]
        }
      ]
    },
    {
      "cell_type": "code",
      "source": [
        "!python app.py"
      ],
      "metadata": {
        "colab": {
          "base_uri": "https://localhost:8080/"
        },
        "id": "utVYrmX0-XtK",
        "outputId": "13c5c2f7-71f1-4457-9bf2-b5062df11dde"
      },
      "execution_count": 7,
      "outputs": [
        {
          "output_type": "stream",
          "name": "stdout",
          "text": [
            "ngrok URL: NgrokTunnel: \"https://da66-34-139-93-249.ngrok-free.app\" -> \"http://localhost:5000\"\n",
            " * Serving Flask app 'app'\n",
            " * Debug mode: on\n",
            "\u001b[31m\u001b[1mWARNING: This is a development server. Do not use it in a production deployment. Use a production WSGI server instead.\u001b[0m\n",
            " * Running on http://127.0.0.1:5000\n",
            "\u001b[33mPress CTRL+C to quit\u001b[0m\n",
            "^C\n"
          ]
        }
      ]
    },
    {
      "cell_type": "markdown",
      "source": [
        "QRコードを生成しましょう。\n",
        "\n",
        "https://www.cman.jp/QRcode/\n"
      ],
      "metadata": {
        "id": "48bKP2_ucRmU"
      }
    },
    {
      "cell_type": "code",
      "source": [
        "drive.flush_and_unmount()\n",
        "\n",
        "!rm shoyo.zip\n",
        "!zip -r /content/shoyo.zip /content/"
      ],
      "metadata": {
        "colab": {
          "base_uri": "https://localhost:8080/",
          "height": 1000
        },
        "id": "Pbuj_bqJeIZa",
        "outputId": "79af1b0c-b961-4dc7-bfb4-d51a4e8745cd"
      },
      "execution_count": 20,
      "outputs": [
        {
          "output_type": "stream",
          "name": "stdout",
          "text": [
            "Drive not mounted, so nothing to flush and unmount.\n",
            "rm: cannot remove 'shoyo.zip': No such file or directory\n",
            "  adding: content/ (stored 0%)\n",
            "  adding: content/.config/ (stored 0%)\n",
            "  adding: content/.config/default_configs.db (deflated 98%)\n",
            "  adding: content/.config/configurations/ (stored 0%)\n",
            "  adding: content/.config/configurations/config_default (deflated 15%)\n",
            "  adding: content/.config/.last_update_check.json (deflated 22%)\n",
            "  adding: content/.config/logs/ (stored 0%)\n",
            "  adding: content/.config/logs/2025.02.06/ (stored 0%)\n",
            "  adding: content/.config/logs/2025.02.06/14.18.56.503663.log (deflated 58%)\n",
            "  adding: content/.config/logs/2025.02.06/14.19.05.026938.log (deflated 57%)\n",
            "  adding: content/.config/logs/2025.02.06/14.18.47.278161.log (deflated 58%)\n",
            "  adding: content/.config/logs/2025.02.06/14.18.55.002885.log (deflated 87%)\n",
            "  adding: content/.config/logs/2025.02.06/14.19.04.384852.log (deflated 57%)\n",
            "  adding: content/.config/logs/2025.02.06/14.18.24.835977.log (deflated 93%)\n",
            "  adding: content/.config/hidden_gcloud_config_universe_descriptor_data_cache_configs.db (deflated 97%)\n",
            "  adding: content/.config/.last_survey_prompt.yaml (stored 0%)\n",
            "  adding: content/.config/active_config (stored 0%)\n",
            "  adding: content/.config/gce (stored 0%)\n",
            "  adding: content/.config/config_sentinel (stored 0%)\n",
            "  adding: content/.config/.last_opt_in_prompt.yaml (stored 0%)\n",
            "  adding: content/.ipynb_checkpoints/ (stored 0%)\n",
            "  adding: content/config.py (deflated 19%)\n",
            "  adding: content/routes/ (stored 0%)\n",
            "  adding: content/routes/items.py (deflated 42%)\n",
            "  adding: content/routes/auth.py (deflated 51%)\n",
            "  adding: content/routes/cart.py (deflated 68%)\n",
            "  adding: content/routes/__init__.py (deflated 40%)\n",
            "  adding: content/requirements.txt (deflated 31%)\n",
            "  adding: content/initdb.py (deflated 68%)\n",
            "  adding: content/models.py (deflated 71%)\n",
            "  adding: content/app.py (deflated 41%)\n",
            "  adding: content/websystem01/ (stored 0%)\n",
            "  adding: content/websystem01/.gitignore (deflated 10%)\n",
            "  adding: content/websystem01/.git/ (stored 0%)\n",
            "  adding: content/websystem01/.git/info/ (stored 0%)\n",
            "  adding: content/websystem01/.git/info/exclude (deflated 28%)\n",
            "  adding: content/websystem01/.git/objects/ (stored 0%)\n",
            "  adding: content/websystem01/.git/objects/pack/ (stored 0%)\n",
            "  adding: content/websystem01/.git/objects/pack/pack-a6a258dab3e962102f0e4a3224109b3189d35051.idx (deflated 22%)\n",
            "  adding: content/websystem01/.git/objects/pack/pack-a6a258dab3e962102f0e4a3224109b3189d35051.pack (deflated 0%)\n",
            "  adding: content/websystem01/.git/objects/info/ (stored 0%)\n",
            "  adding: content/websystem01/.git/logs/ (stored 0%)\n",
            "  adding: content/websystem01/.git/logs/HEAD (deflated 28%)\n",
            "  adding: content/websystem01/.git/logs/refs/ (stored 0%)\n",
            "  adding: content/websystem01/.git/logs/refs/heads/ (stored 0%)\n",
            "  adding: content/websystem01/.git/logs/refs/heads/main (deflated 28%)\n",
            "  adding: content/websystem01/.git/logs/refs/remotes/ (stored 0%)\n",
            "  adding: content/websystem01/.git/logs/refs/remotes/origin/ (stored 0%)\n",
            "  adding: content/websystem01/.git/logs/refs/remotes/origin/HEAD (deflated 28%)\n",
            "  adding: content/websystem01/.git/description (deflated 14%)\n",
            "  adding: content/websystem01/.git/index (deflated 44%)\n",
            "  adding: content/websystem01/.git/packed-refs (deflated 9%)\n",
            "  adding: content/websystem01/.git/config (deflated 34%)\n",
            "  adding: content/websystem01/.git/branches/ (stored 0%)\n",
            "  adding: content/websystem01/.git/hooks/ (stored 0%)\n",
            "  adding: content/websystem01/.git/hooks/push-to-checkout.sample (deflated 55%)\n",
            "  adding: content/websystem01/.git/hooks/pre-applypatch.sample (deflated 38%)\n",
            "  adding: content/websystem01/.git/hooks/pre-rebase.sample (deflated 59%)\n",
            "  adding: content/websystem01/.git/hooks/update.sample (deflated 68%)\n",
            "  adding: content/websystem01/.git/hooks/pre-commit.sample (deflated 45%)\n",
            "  adding: content/websystem01/.git/hooks/pre-push.sample (deflated 49%)\n",
            "  adding: content/websystem01/.git/hooks/fsmonitor-watchman.sample (deflated 62%)\n",
            "  adding: content/websystem01/.git/hooks/pre-receive.sample (deflated 40%)\n",
            "  adding: content/websystem01/.git/hooks/prepare-commit-msg.sample (deflated 50%)\n",
            "  adding: content/websystem01/.git/hooks/commit-msg.sample (deflated 44%)\n",
            "  adding: content/websystem01/.git/hooks/pre-merge-commit.sample (deflated 39%)\n",
            "  adding: content/websystem01/.git/hooks/post-update.sample (deflated 27%)\n",
            "  adding: content/websystem01/.git/hooks/applypatch-msg.sample (deflated 42%)\n",
            "  adding: content/websystem01/.git/HEAD (stored 0%)\n",
            "  adding: content/websystem01/.git/refs/ (stored 0%)\n",
            "  adding: content/websystem01/.git/refs/heads/ (stored 0%)\n",
            "  adding: content/websystem01/.git/refs/heads/main (stored 0%)\n",
            "  adding: content/websystem01/.git/refs/remotes/ (stored 0%)\n",
            "  adding: content/websystem01/.git/refs/remotes/origin/ (stored 0%)\n",
            "  adding: content/websystem01/.git/refs/remotes/origin/HEAD (stored 0%)\n",
            "  adding: content/websystem01/.git/refs/tags/ (stored 0%)\n",
            "  adding: content/templates/ (stored 0%)\n",
            "  adding: content/templates/header.html (deflated 41%)\n",
            "  adding: content/templates/login.html (deflated 56%)\n",
            "  adding: content/templates/itemlist.html (deflated 53%)\n",
            "  adding: content/templates/top.html (deflated 30%)\n",
            "  adding: content/templates/cartitem.html (deflated 56%)\n",
            "  adding: content/instance/ (stored 0%)\n",
            "  adding: content/instance/site.db (deflated 96%)\n",
            "  adding: content/run.py (deflated 9%)\n",
            "  adding: content/static/ (stored 0%)\n",
            "  adding: content/static/images/ (stored 0%)\n",
            "  adding: content/static/images/b.png (deflated 0%)\n",
            "  adding: content/static/images/a.png (deflated 0%)\n"
          ]
        },
        {
          "output_type": "display_data",
          "data": {
            "text/plain": [
              "<IPython.core.display.Javascript object>"
            ],
            "application/javascript": [
              "\n",
              "    async function download(id, filename, size) {\n",
              "      if (!google.colab.kernel.accessAllowed) {\n",
              "        return;\n",
              "      }\n",
              "      const div = document.createElement('div');\n",
              "      const label = document.createElement('label');\n",
              "      label.textContent = `Downloading \"${filename}\": `;\n",
              "      div.appendChild(label);\n",
              "      const progress = document.createElement('progress');\n",
              "      progress.max = size;\n",
              "      div.appendChild(progress);\n",
              "      document.body.appendChild(div);\n",
              "\n",
              "      const buffers = [];\n",
              "      let downloaded = 0;\n",
              "\n",
              "      const channel = await google.colab.kernel.comms.open(id);\n",
              "      // Send a message to notify the kernel that we're ready.\n",
              "      channel.send({})\n",
              "\n",
              "      for await (const message of channel.messages) {\n",
              "        // Send a message to notify the kernel that we're ready.\n",
              "        channel.send({})\n",
              "        if (message.buffers) {\n",
              "          for (const buffer of message.buffers) {\n",
              "            buffers.push(buffer);\n",
              "            downloaded += buffer.byteLength;\n",
              "            progress.value = downloaded;\n",
              "          }\n",
              "        }\n",
              "      }\n",
              "      const blob = new Blob(buffers, {type: 'application/binary'});\n",
              "      const a = document.createElement('a');\n",
              "      a.href = window.URL.createObjectURL(blob);\n",
              "      a.download = filename;\n",
              "      div.appendChild(a);\n",
              "      a.click();\n",
              "      div.remove();\n",
              "    }\n",
              "  "
            ]
          },
          "metadata": {}
        },
        {
          "output_type": "display_data",
          "data": {
            "text/plain": [
              "<IPython.core.display.Javascript object>"
            ],
            "application/javascript": [
              "download(\"download_7d660a47-9326-4e85-8045-cd5f7fd54b37\", \"shoyo.zip\", 473932)"
            ]
          },
          "metadata": {}
        }
      ]
    },
    {
      "cell_type": "code",
      "source": [
        "from google.colab import files\n",
        "files.download(\"/content/shoyo.zip\")\n"
      ],
      "metadata": {
        "colab": {
          "base_uri": "https://localhost:8080/",
          "height": 17
        },
        "id": "MpsFFvuOhEab",
        "outputId": "115df4e6-c6d2-4cae-c040-8c8dafe08d4a"
      },
      "execution_count": 21,
      "outputs": [
        {
          "output_type": "display_data",
          "data": {
            "text/plain": [
              "<IPython.core.display.Javascript object>"
            ],
            "application/javascript": [
              "\n",
              "    async function download(id, filename, size) {\n",
              "      if (!google.colab.kernel.accessAllowed) {\n",
              "        return;\n",
              "      }\n",
              "      const div = document.createElement('div');\n",
              "      const label = document.createElement('label');\n",
              "      label.textContent = `Downloading \"${filename}\": `;\n",
              "      div.appendChild(label);\n",
              "      const progress = document.createElement('progress');\n",
              "      progress.max = size;\n",
              "      div.appendChild(progress);\n",
              "      document.body.appendChild(div);\n",
              "\n",
              "      const buffers = [];\n",
              "      let downloaded = 0;\n",
              "\n",
              "      const channel = await google.colab.kernel.comms.open(id);\n",
              "      // Send a message to notify the kernel that we're ready.\n",
              "      channel.send({})\n",
              "\n",
              "      for await (const message of channel.messages) {\n",
              "        // Send a message to notify the kernel that we're ready.\n",
              "        channel.send({})\n",
              "        if (message.buffers) {\n",
              "          for (const buffer of message.buffers) {\n",
              "            buffers.push(buffer);\n",
              "            downloaded += buffer.byteLength;\n",
              "            progress.value = downloaded;\n",
              "          }\n",
              "        }\n",
              "      }\n",
              "      const blob = new Blob(buffers, {type: 'application/binary'});\n",
              "      const a = document.createElement('a');\n",
              "      a.href = window.URL.createObjectURL(blob);\n",
              "      a.download = filename;\n",
              "      div.appendChild(a);\n",
              "      a.click();\n",
              "      div.remove();\n",
              "    }\n",
              "  "
            ]
          },
          "metadata": {}
        },
        {
          "output_type": "display_data",
          "data": {
            "text/plain": [
              "<IPython.core.display.Javascript object>"
            ],
            "application/javascript": [
              "download(\"download_76de8da2-9e9c-4d18-87fd-7ec2005c85db\", \"shoyo.zip\", 473932)"
            ]
          },
          "metadata": {}
        }
      ]
    },
    {
      "cell_type": "code",
      "source": [
        "# prompt: Google DriveをマウントしてGoogle Driveにshoyo.zipをコピーしたい。\n",
        "\n",
        "from google.colab import drive\n",
        "from google.colab import files\n",
        "drive.mount('/content/drive')\n",
        "\n",
        "!cp /content/shoyo.zip /content/drive/MyDrive/  # Google DriveのMyDriveにコピー\n",
        "# files.download(\"/content/shoyo.zip\") # ローカルにダウンロードする場合はコメントアウトを外す\n"
      ],
      "metadata": {
        "colab": {
          "base_uri": "https://localhost:8080/"
        },
        "id": "gHufl2sme88Z",
        "outputId": "4fc62461-ca95-402d-fd62-74d423959e28"
      },
      "execution_count": 23,
      "outputs": [
        {
          "output_type": "stream",
          "name": "stdout",
          "text": [
            "Drive already mounted at /content/drive; to attempt to forcibly remount, call drive.mount(\"/content/drive\", force_remount=True).\n"
          ]
        }
      ]
    },
    {
      "cell_type": "code",
      "source": [
        "# prompt: Google Driveをアンマウントしたい\n",
        "\n",
        "drive.flush_and_unmount()\n"
      ],
      "metadata": {
        "id": "yF899VAwgiO7"
      },
      "execution_count": null,
      "outputs": []
    }
  ],
  "metadata": {
    "colab": {
      "provenance": [],
      "authorship_tag": "ABX9TyPL37r08GaKzgUcOJ+SR8wk",
      "include_colab_link": true
    },
    "kernelspec": {
      "display_name": "Python 3",
      "name": "python3"
    },
    "language_info": {
      "name": "python"
    }
  },
  "nbformat": 4,
  "nbformat_minor": 0
}