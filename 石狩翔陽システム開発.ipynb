{
  "cells": [
    {
      "cell_type": "markdown",
      "metadata": {
        "id": "view-in-github",
        "colab_type": "text"
      },
      "source": [
        "<a href=\"https://colab.research.google.com/github/hirossk/shoyo/blob/main/%E7%9F%B3%E7%8B%A9%E7%BF%94%E9%99%BD%E3%82%B7%E3%82%B9%E3%83%86%E3%83%A0%E9%96%8B%E7%99%BA.ipynb\" target=\"_parent\"><img src=\"https://colab.research.google.com/assets/colab-badge.svg\" alt=\"Open In Colab\"/></a>"
      ]
    },
    {
      "cell_type": "markdown",
      "source": [
        "# Webシステムの開発\n"
      ],
      "metadata": {
        "id": "o_sMC2u7g5L_"
      }
    },
    {
      "cell_type": "markdown",
      "source": [
        "## 環境設定\n",
        "\n",
        "Webシステムの開発に必要な環境を作成します。\n",
        "\n",
        "自分が保存した「Zip」を使って環境を作る場合はスキップしてください。"
      ],
      "metadata": {
        "id": "hXOyAWmMkD40"
      }
    },
    {
      "cell_type": "code",
      "execution_count": 18,
      "metadata": {
        "colab": {
          "base_uri": "https://localhost:8080/"
        },
        "id": "k6jzNGVG1-4U",
        "outputId": "c455235e-c765-4ade-9340-5339261a9fd2"
      },
      "outputs": [
        {
          "output_type": "stream",
          "name": "stdout",
          "text": [
            "Drive not mounted, so nothing to flush and unmount.\n",
            "Cloning into 'websystem01'...\n",
            "remote: Enumerating objects: 98, done.\u001b[K\n",
            "remote: Counting objects: 100% (98/98), done.\u001b[K\n",
            "remote: Compressing objects: 100% (64/64), done.\u001b[K\n",
            "remote: Total 98 (delta 46), reused 83 (delta 31), pack-reused 0 (from 0)\u001b[K\n",
            "Receiving objects: 100% (98/98), 217.50 KiB | 27.19 MiB/s, done.\n",
            "Resolving deltas: 100% (46/46), done.\n",
            "Requirement already satisfied: flask in /usr/local/lib/python3.11/dist-packages (3.1.0)\n",
            "Requirement already satisfied: pyngrok in /usr/local/lib/python3.11/dist-packages (7.2.3)\n",
            "Requirement already satisfied: flask_sqlalchemy in /usr/local/lib/python3.11/dist-packages (3.1.1)\n",
            "Requirement already satisfied: flask_ngrok in /usr/local/lib/python3.11/dist-packages (0.0.25)\n",
            "Requirement already satisfied: Werkzeug>=3.1 in /usr/local/lib/python3.11/dist-packages (from flask) (3.1.3)\n",
            "Requirement already satisfied: Jinja2>=3.1.2 in /usr/local/lib/python3.11/dist-packages (from flask) (3.1.5)\n",
            "Requirement already satisfied: itsdangerous>=2.2 in /usr/local/lib/python3.11/dist-packages (from flask) (2.2.0)\n",
            "Requirement already satisfied: click>=8.1.3 in /usr/local/lib/python3.11/dist-packages (from flask) (8.1.8)\n",
            "Requirement already satisfied: blinker>=1.9 in /usr/local/lib/python3.11/dist-packages (from flask) (1.9.0)\n",
            "Requirement already satisfied: PyYAML>=5.1 in /usr/local/lib/python3.11/dist-packages (from pyngrok) (6.0.2)\n",
            "Requirement already satisfied: sqlalchemy>=2.0.16 in /usr/local/lib/python3.11/dist-packages (from flask_sqlalchemy) (2.0.37)\n",
            "Requirement already satisfied: requests in /usr/local/lib/python3.11/dist-packages (from flask_ngrok) (2.32.3)\n",
            "Requirement already satisfied: MarkupSafe>=2.0 in /usr/local/lib/python3.11/dist-packages (from Jinja2>=3.1.2->flask) (3.0.2)\n",
            "Requirement already satisfied: greenlet!=0.4.17 in /usr/local/lib/python3.11/dist-packages (from sqlalchemy>=2.0.16->flask_sqlalchemy) (3.1.1)\n",
            "Requirement already satisfied: typing-extensions>=4.6.0 in /usr/local/lib/python3.11/dist-packages (from sqlalchemy>=2.0.16->flask_sqlalchemy) (4.12.2)\n",
            "Requirement already satisfied: charset-normalizer<4,>=2 in /usr/local/lib/python3.11/dist-packages (from requests->flask_ngrok) (3.4.1)\n",
            "Requirement already satisfied: idna<4,>=2.5 in /usr/local/lib/python3.11/dist-packages (from requests->flask_ngrok) (3.10)\n",
            "Requirement already satisfied: urllib3<3,>=1.21.1 in /usr/local/lib/python3.11/dist-packages (from requests->flask_ngrok) (2.3.0)\n",
            "Requirement already satisfied: certifi>=2017.4.17 in /usr/local/lib/python3.11/dist-packages (from requests->flask_ngrok) (2025.1.31)\n"
          ]
        }
      ],
      "source": [
        "from google.colab import drive\n",
        "from google.colab import files\n",
        "drive.flush_and_unmount()\n",
        "!rm -rf websystem01 sample_data\n",
        "!git clone https://github.com/hirossk/websystem01\n",
        "!cp -r  websystem01/* .\n",
        "!rm -rf websystem01\n"
      ]
    },
    {
      "cell_type": "markdown",
      "source": [
        "## 必要な実行環境の設定"
      ],
      "metadata": {
        "id": "3OLQ2GxKp-80"
      }
    },
    {
      "cell_type": "code",
      "source": [
        "!pip install flask pyngrok flask_sqlalchemy flask_ngrok"
      ],
      "metadata": {
        "id": "tjVkpgPGps7I",
        "outputId": "11773741-c0ea-428c-83c4-4b23f4d6857b",
        "colab": {
          "base_uri": "https://localhost:8080/"
        }
      },
      "execution_count": 2,
      "outputs": [
        {
          "output_type": "stream",
          "name": "stdout",
          "text": [
            "Requirement already satisfied: flask in /usr/local/lib/python3.11/dist-packages (3.1.0)\n",
            "Collecting pyngrok\n",
            "  Downloading pyngrok-7.2.3-py3-none-any.whl.metadata (8.7 kB)\n",
            "Collecting flask_sqlalchemy\n",
            "  Downloading flask_sqlalchemy-3.1.1-py3-none-any.whl.metadata (3.4 kB)\n",
            "Collecting flask_ngrok\n",
            "  Downloading flask_ngrok-0.0.25-py3-none-any.whl.metadata (1.8 kB)\n",
            "Requirement already satisfied: Werkzeug>=3.1 in /usr/local/lib/python3.11/dist-packages (from flask) (3.1.3)\n",
            "Requirement already satisfied: Jinja2>=3.1.2 in /usr/local/lib/python3.11/dist-packages (from flask) (3.1.5)\n",
            "Requirement already satisfied: itsdangerous>=2.2 in /usr/local/lib/python3.11/dist-packages (from flask) (2.2.0)\n",
            "Requirement already satisfied: click>=8.1.3 in /usr/local/lib/python3.11/dist-packages (from flask) (8.1.8)\n",
            "Requirement already satisfied: blinker>=1.9 in /usr/local/lib/python3.11/dist-packages (from flask) (1.9.0)\n",
            "Requirement already satisfied: PyYAML>=5.1 in /usr/local/lib/python3.11/dist-packages (from pyngrok) (6.0.2)\n",
            "Requirement already satisfied: sqlalchemy>=2.0.16 in /usr/local/lib/python3.11/dist-packages (from flask_sqlalchemy) (2.0.37)\n",
            "Requirement already satisfied: requests in /usr/local/lib/python3.11/dist-packages (from flask_ngrok) (2.32.3)\n",
            "Requirement already satisfied: MarkupSafe>=2.0 in /usr/local/lib/python3.11/dist-packages (from Jinja2>=3.1.2->flask) (3.0.2)\n",
            "Requirement already satisfied: greenlet!=0.4.17 in /usr/local/lib/python3.11/dist-packages (from sqlalchemy>=2.0.16->flask_sqlalchemy) (3.1.1)\n",
            "Requirement already satisfied: typing-extensions>=4.6.0 in /usr/local/lib/python3.11/dist-packages (from sqlalchemy>=2.0.16->flask_sqlalchemy) (4.12.2)\n",
            "Requirement already satisfied: charset-normalizer<4,>=2 in /usr/local/lib/python3.11/dist-packages (from requests->flask_ngrok) (3.4.1)\n",
            "Requirement already satisfied: idna<4,>=2.5 in /usr/local/lib/python3.11/dist-packages (from requests->flask_ngrok) (3.10)\n",
            "Requirement already satisfied: urllib3<3,>=1.21.1 in /usr/local/lib/python3.11/dist-packages (from requests->flask_ngrok) (2.3.0)\n",
            "Requirement already satisfied: certifi>=2017.4.17 in /usr/local/lib/python3.11/dist-packages (from requests->flask_ngrok) (2025.1.31)\n",
            "Downloading pyngrok-7.2.3-py3-none-any.whl (23 kB)\n",
            "Downloading flask_sqlalchemy-3.1.1-py3-none-any.whl (25 kB)\n",
            "Downloading flask_ngrok-0.0.25-py3-none-any.whl (3.1 kB)\n",
            "Installing collected packages: pyngrok, flask_sqlalchemy, flask_ngrok\n",
            "Successfully installed flask_ngrok-0.0.25 flask_sqlalchemy-3.1.1 pyngrok-7.2.3\n"
          ]
        }
      ]
    },
    {
      "cell_type": "markdown",
      "metadata": {
        "id": "RRlQbDav4YnF"
      },
      "source": [
        "## Ngrok(エングロック)に登録して公開できる環境を作成します。\n",
        "\n",
        "https://ngrok.com/ を開いてしてサインアップします\n",
        "\n",
        "「sign up」を選択してGoogleアカウントを選択します。\n",
        "\n",
        "「Your Authtoken」をコピーして次のセルに貼り付けます。\n",
        "\n"
      ]
    },
    {
      "cell_type": "code",
      "execution_count": 3,
      "metadata": {
        "colab": {
          "base_uri": "https://localhost:8080/"
        },
        "id": "OzzRUzOHoWWn",
        "outputId": "f972954c-9187-484d-d73c-9b7e1d3e2d40"
      },
      "outputs": [
        {
          "output_type": "stream",
          "name": "stdout",
          "text": [
            "Authtoken saved to configuration file: /root/.config/ngrok/ngrok.yml\n"
          ]
        }
      ],
      "source": [
        "# tokenの貼り付け\n",
        "!ngrok authtoken 2kK8VJj31s3SP9mSKx93NNMnrjk_5TQmgnN4EeTUeMaz5PEDk\n"
      ]
    },
    {
      "cell_type": "markdown",
      "source": [
        "## データベースの初期化\n",
        "\n",
        "次のコードを実行するとデータベースが初期化されます。\n",
        "\n",
        "ショッピングサイトではユーザーや商品やカートをデータベースに保存することができます。"
      ],
      "metadata": {
        "id": "KBn6ZCtAlcnY"
      }
    },
    {
      "cell_type": "code",
      "source": [
        "!python initdb.py"
      ],
      "metadata": {
        "colab": {
          "base_uri": "https://localhost:8080/"
        },
        "id": "lxdqAaQ7GbQc",
        "outputId": "a5968dc6-47b0-4767-ab31-04ded03513ff"
      },
      "execution_count": 4,
      "outputs": [
        {
          "output_type": "stream",
          "name": "stdout",
          "text": [
            "Database 'instance/site.db' does not exist.\n",
            "Database tables recreated.\n"
          ]
        }
      ]
    },
    {
      "cell_type": "markdown",
      "source": [
        "## アプリケーションの実行\n",
        "\n",
        "次のセルでアプリケーションを実行することができます。\n",
        "\n",
        "ngrok URL: NgrokTunnel: \"https://XX-XX-XX-XX.ngrok-free.app\" のリンクをクリックすることでアプリケーションを実行できます。"
      ],
      "metadata": {
        "id": "iLbfM5Yzlpbx"
      }
    },
    {
      "cell_type": "code",
      "source": [
        "!python app.py"
      ],
      "metadata": {
        "colab": {
          "base_uri": "https://localhost:8080/"
        },
        "id": "utVYrmX0-XtK",
        "outputId": "fc160f44-4ab3-45ab-ed8f-d2f1ff5fe959"
      },
      "execution_count": null,
      "outputs": [
        {
          "output_type": "stream",
          "name": "stdout",
          "text": [
            "ngrok URL: NgrokTunnel: \"https://9d59-34-105-110-207.ngrok-free.app\" -> \"http://localhost:5000\"\n",
            " * Serving Flask app 'app'\n",
            " * Debug mode: on\n",
            "\u001b[31m\u001b[1mWARNING: This is a development server. Do not use it in a production deployment. Use a production WSGI server instead.\u001b[0m\n",
            " * Running on http://127.0.0.1:5000\n",
            "\u001b[33mPress CTRL+C to quit\u001b[0m\n",
            "127.0.0.1 - - [10/Feb/2025 02:19:04] \"GET / HTTP/1.1\" 200 -\n",
            "127.0.0.1 - - [10/Feb/2025 02:19:05] \"\u001b[33mGET /favicon.ico HTTP/1.1\u001b[0m\" 404 -\n"
          ]
        }
      ]
    },
    {
      "cell_type": "markdown",
      "source": [
        "### スマートフォンやタブレットでの閲覧はQRコードを生成すると便利です。\n",
        "\n",
        "QRコードを生成しましょう。\n",
        "\n",
        "https://www.cman.jp/QRcode/\n"
      ],
      "metadata": {
        "id": "48bKP2_ucRmU"
      }
    },
    {
      "cell_type": "markdown",
      "source": [
        "## 作成したプログラムをZipアーカイブ（圧縮）\n",
        "\n",
        "作成したプログラムはColaboratoryのランタイムを終了すると消えます。\n",
        "\n",
        "Zipにして保存しておきましょう。"
      ],
      "metadata": {
        "id": "r3p80tnfmCXa"
      }
    },
    {
      "cell_type": "code",
      "source": [
        "drive.flush_and_unmount()\n",
        "\n",
        "!rm 20250227shoyo.zip\n",
        "!rm -rf websystem01 content\n",
        "!zip -r /content/20250227shoyo.zip ./*"
      ],
      "metadata": {
        "colab": {
          "base_uri": "https://localhost:8080/"
        },
        "id": "Pbuj_bqJeIZa",
        "outputId": "3f86b2b9-9e96-4d9a-bacb-91f54ff5ef37"
      },
      "execution_count": 19,
      "outputs": [
        {
          "output_type": "stream",
          "name": "stdout",
          "text": [
            "Drive not mounted, so nothing to flush and unmount.\n",
            "  adding: app.py (deflated 41%)\n",
            "  adding: config.py (deflated 19%)\n",
            "  adding: initdb.py (deflated 68%)\n",
            "  adding: models.py (deflated 71%)\n",
            "  adding: requirements.txt (deflated 31%)\n",
            "  adding: routes/ (stored 0%)\n",
            "  adding: routes/items.py (deflated 42%)\n",
            "  adding: routes/auth.py (deflated 51%)\n",
            "  adding: routes/cart.py (deflated 68%)\n",
            "  adding: routes/__init__.py (deflated 40%)\n",
            "  adding: run.py (deflated 9%)\n",
            "  adding: static/ (stored 0%)\n",
            "  adding: static/images/ (stored 0%)\n",
            "  adding: static/images/b.png (deflated 0%)\n",
            "  adding: static/images/a.png (deflated 0%)\n",
            "  adding: templates/ (stored 0%)\n",
            "  adding: templates/header.html (deflated 41%)\n",
            "  adding: templates/login.html (deflated 56%)\n",
            "  adding: templates/itemlist.html (deflated 53%)\n",
            "  adding: templates/top.html (deflated 30%)\n",
            "  adding: templates/cartitem.html (deflated 56%)\n"
          ]
        }
      ]
    },
    {
      "cell_type": "markdown",
      "source": [
        "## Zipのダウンロード"
      ],
      "metadata": {
        "id": "F-2n-s_hmPLo"
      }
    },
    {
      "cell_type": "code",
      "source": [
        "from google.colab import files\n",
        "files.download(\"/content/20250227shoyo.zip\")\n"
      ],
      "metadata": {
        "colab": {
          "base_uri": "https://localhost:8080/",
          "height": 17
        },
        "id": "MpsFFvuOhEab",
        "outputId": "115df4e6-c6d2-4cae-c040-8c8dafe08d4a"
      },
      "execution_count": null,
      "outputs": [
        {
          "output_type": "display_data",
          "data": {
            "text/plain": [
              "<IPython.core.display.Javascript object>"
            ],
            "application/javascript": [
              "\n",
              "    async function download(id, filename, size) {\n",
              "      if (!google.colab.kernel.accessAllowed) {\n",
              "        return;\n",
              "      }\n",
              "      const div = document.createElement('div');\n",
              "      const label = document.createElement('label');\n",
              "      label.textContent = `Downloading \"${filename}\": `;\n",
              "      div.appendChild(label);\n",
              "      const progress = document.createElement('progress');\n",
              "      progress.max = size;\n",
              "      div.appendChild(progress);\n",
              "      document.body.appendChild(div);\n",
              "\n",
              "      const buffers = [];\n",
              "      let downloaded = 0;\n",
              "\n",
              "      const channel = await google.colab.kernel.comms.open(id);\n",
              "      // Send a message to notify the kernel that we're ready.\n",
              "      channel.send({})\n",
              "\n",
              "      for await (const message of channel.messages) {\n",
              "        // Send a message to notify the kernel that we're ready.\n",
              "        channel.send({})\n",
              "        if (message.buffers) {\n",
              "          for (const buffer of message.buffers) {\n",
              "            buffers.push(buffer);\n",
              "            downloaded += buffer.byteLength;\n",
              "            progress.value = downloaded;\n",
              "          }\n",
              "        }\n",
              "      }\n",
              "      const blob = new Blob(buffers, {type: 'application/binary'});\n",
              "      const a = document.createElement('a');\n",
              "      a.href = window.URL.createObjectURL(blob);\n",
              "      a.download = filename;\n",
              "      div.appendChild(a);\n",
              "      a.click();\n",
              "      div.remove();\n",
              "    }\n",
              "  "
            ]
          },
          "metadata": {}
        },
        {
          "output_type": "display_data",
          "data": {
            "text/plain": [
              "<IPython.core.display.Javascript object>"
            ],
            "application/javascript": [
              "download(\"download_76de8da2-9e9c-4d18-87fd-7ec2005c85db\", \"shoyo.zip\", 473932)"
            ]
          },
          "metadata": {}
        }
      ]
    },
    {
      "cell_type": "markdown",
      "source": [
        "## Google Driveに保存"
      ],
      "metadata": {
        "id": "7G-xqwIImTts"
      }
    },
    {
      "cell_type": "code",
      "source": [
        "from google.colab import drive\n",
        "from google.colab import files\n",
        "drive.mount('/content/drive')\n",
        "\n",
        "!cp /content/20250227shoyo.zip /content/drive/MyDrive/  # Google DriveのMyDriveにコピー\n",
        "drive.flush_and_unmount()"
      ],
      "metadata": {
        "colab": {
          "base_uri": "https://localhost:8080/"
        },
        "id": "gHufl2sme88Z",
        "outputId": "83607204-1a75-450a-f5ba-8b1f20f3920e"
      },
      "execution_count": 20,
      "outputs": [
        {
          "output_type": "stream",
          "name": "stdout",
          "text": [
            "Mounted at /content/drive\n"
          ]
        }
      ]
    },
    {
      "cell_type": "markdown",
      "source": [
        "## Zipファイルを使ってデータを展開"
      ],
      "metadata": {
        "id": "bFbqJPHvqGX0"
      }
    },
    {
      "cell_type": "code",
      "source": [
        "!rm -rf /content/websystem01\n",
        "\n",
        "import zipfile\n",
        "\n",
        "# Google Driveのマウント\n",
        "from google.colab import drive\n",
        "drive.mount('/content/drive')\n",
        "\n",
        "# zipファイルのパス\n",
        "zip_file_path = \"/content/drive/MyDrive/20250227shoyo.zip\"\n",
        "\n",
        "# 展開先のパス\n",
        "extract_path = \"/content\"\n",
        "\n",
        "# zipファイルの展開\n",
        "with zipfile.ZipFile(zip_file_path, 'r') as zip_ref:\n",
        "    zip_ref.extractall(extract_path)\n",
        "\n",
        "drive.flush_and_unmount()"
      ],
      "metadata": {
        "id": "rP6AgyKgmnRm",
        "outputId": "df154d81-5e92-45da-f3f5-83bd08a1a268",
        "colab": {
          "base_uri": "https://localhost:8080/"
        }
      },
      "execution_count": 1,
      "outputs": [
        {
          "output_type": "stream",
          "name": "stdout",
          "text": [
            "Mounted at /content/drive\n"
          ]
        }
      ]
    }
  ],
  "metadata": {
    "colab": {
      "provenance": [],
      "toc_visible": true,
      "authorship_tag": "ABX9TyP4FCRoml0/S1NAcrSLfO/8",
      "include_colab_link": true
    },
    "kernelspec": {
      "display_name": "Python 3",
      "name": "python3"
    },
    "language_info": {
      "name": "python"
    }
  },
  "nbformat": 4,
  "nbformat_minor": 0
}